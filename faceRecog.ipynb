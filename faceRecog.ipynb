{
  "cells": [
    {
      "cell_type": "code",
      "execution_count": 85,
      "metadata": {
        "id": "NtQAdJYC2D8_"
      },
      "outputs": [],
      "source": [
        "import dlib\n",
        "import os\n",
        "from PIL import Image\n",
        "from skimage import io\n",
        "from pathlib import Path\n",
        "from sklearn.decomposition import PCA\n",
        "\n",
        "BasePath = \"/content/drive/MyDrive/project_1/FaceRecog/DataSets/Askeladd/1.png\""
      ]
    },
    {
      "cell_type": "code",
      "source": [
        "from google.colab import drive\n",
        "drive.mount('/content/drive')"
      ],
      "metadata": {
        "colab": {
          "base_uri": "https://localhost:8080/"
        },
        "id": "xiuAl1oR4MuJ",
        "outputId": "3e4cd20d-437a-448e-e9a6-cd3ab3b45528"
      },
      "execution_count": 86,
      "outputs": [
        {
          "output_type": "stream",
          "name": "stdout",
          "text": [
            "Drive already mounted at /content/drive; to attempt to forcibly remount, call drive.mount(\"/content/drive\", force_remount=True).\n"
          ]
        }
      ]
    },
    {
      "cell_type": "code",
      "execution_count": 87,
      "metadata": {
        "id": "rPfaqEvH2D9A"
      },
      "outputs": [],
      "source": [
        "def detect_faces(image):\n",
        "\n",
        "    # Create a face detector\n",
        "    face_detector = dlib.get_frontal_face_detector()\n",
        "\n",
        "    # Run detector and get bounding boxes of the faces on image.\n",
        "    detected_faces = face_detector(image, 1)\n",
        "    face_frames = [(x.left(), x.top(), x.right(), x.bottom())\n",
        "                   for x in detected_faces]\n",
        "\n",
        "    return face_frames"
      ]
    },
    {
      "cell_type": "code",
      "execution_count": 88,
      "metadata": {
        "id": "nb-CdHew2D9B"
      },
      "outputs": [],
      "source": [
        "def cropFaces(img_path:Path,out_path:Path) -> int :\n",
        "    # Load image\n",
        "    image = io.imread(img_path)\n",
        "\n",
        "    # Detect faces\n",
        "    detected_faces = detect_faces(image)\n",
        "\n",
        "    # Crop faces and plot\n",
        "    for n, face_rect in enumerate(detected_faces):\n",
        "        face = Image.fromarray(image).crop(face_rect).convert(\"L\").resize((32,32)).save(out_path)\n",
        "    return len(detected_faces)"
      ]
    },
    {
      "cell_type": "code",
      "execution_count": 89,
      "metadata": {
        "id": "vaJSu8f72D9C"
      },
      "outputs": [],
      "source": [
        "labels = [i.name for i in Path(BasePath).glob(\"*\")]\n",
        "LabelPath = [i for i in Path(BasePath).glob(\"*\")]\n",
        "for i in  LabelPath:\n",
        "    (i/\"gray\").mkdir(exist_ok=True)"
      ]
    },
    {
      "cell_type": "code",
      "execution_count": 90,
      "metadata": {
        "id": "uBWsIRPn2D9D"
      },
      "outputs": [],
      "source": [
        "for x in LabelPath :\n",
        "    for path in x.glob(\"*.jpg\") :\n",
        "        cropFaces(path,x/\"gray\"/path.name)"
      ]
    },
    {
      "cell_type": "code",
      "source": [
        "import numpy as np\n",
        "import skimage.io\n",
        "from pathlib import Path\n",
        "from sklearn.neighbors import KNeighborsClassifier\n",
        "from sklearn.metrics import accuracy_score,confusion_matrix, ConfusionMatrixDisplay\n",
        "from sklearn.decomposition import PCA\n",
        "from sklearn.model_selection import train_test_split\n",
        "from matplotlib import pyplot as plt"
      ],
      "metadata": {
        "id": "7IGa_R9348_Y"
      },
      "execution_count": 91,
      "outputs": []
    },
    {
      "cell_type": "code",
      "source": [
        "data = []\n",
        "labels = []\n",
        "for i in Path(\"/content/drive/MyDrive/project_1/FaceRecog/DataSets\").glob(\"*/gray/*.*\") :\n",
        "      data.append(skimage.io.imread(i,as_gray=True).flatten())\n",
        "      labels.append(i.parent.parent.name)\n",
        "data = np.array(data)\n",
        "data.shape\n"
      ],
      "metadata": {
        "colab": {
          "base_uri": "https://localhost:8080/"
        },
        "id": "Iw0F8p0i49Hg",
        "outputId": "0d33dfe6-3cb2-4c1e-e872-8e826b0a7b4e"
      },
      "execution_count": 92,
      "outputs": [
        {
          "output_type": "execute_result",
          "data": {
            "text/plain": [
              "(245, 4096)"
            ]
          },
          "metadata": {},
          "execution_count": 92
        }
      ]
    },
    {
      "cell_type": "code",
      "source": [
        "\n",
        "Xtrain,Xtest,Ytrain,Ytest = train_test_split(data,labels,test_size=0.25,random_state=3)"
      ],
      "metadata": {
        "id": "f2zIRmb_5BFo"
      },
      "execution_count": 93,
      "outputs": []
    },
    {
      "cell_type": "code",
      "source": [
        "pca = PCA(n_components=12)\n",
        "labelsSet = set(labels)\n",
        "labels = np.array(labels)\n",
        "Xtrain = pca.fit_transform(Xtrain)\n",
        "Xtest = pca.transform(Xtest)"
      ],
      "metadata": {
        "id": "S242Bm6D5C5Z"
      },
      "execution_count": 94,
      "outputs": []
    },
    {
      "cell_type": "code",
      "source": [
        "knn = KNeighborsClassifier(n_neighbors=3)\n",
        "knn.fit(Xtrain,Ytrain)\n",
        "ypred = knn.predict(Xtest)\n",
        "accuracy_score(Ytest, ypred)"
      ],
      "metadata": {
        "colab": {
          "base_uri": "https://localhost:8080/"
        },
        "id": "OQ5A4drR5E8o",
        "outputId": "8e37ca71-d853-43cc-8835-93c13c37e809"
      },
      "execution_count": 95,
      "outputs": [
        {
          "output_type": "execute_result",
          "data": {
            "text/plain": [
              "0.5161290322580645"
            ]
          },
          "metadata": {},
          "execution_count": 95
        }
      ]
    },
    {
      "cell_type": "code",
      "source": [
        "for i,d in enumerate(zip(Ytest,ypred)) :\n",
        "  if(len(f\"{i}\")!=len(f\"{d}\")):\n",
        "      print(f\"{i}    {d}\")"
      ],
      "metadata": {
        "colab": {
          "base_uri": "https://localhost:8080/"
        },
        "id": "8AHPzOHJ5GlW",
        "outputId": "865cb944-083b-4319-afc7-8d3b1971e1cf"
      },
      "execution_count": 97,
      "outputs": [
        {
          "output_type": "stream",
          "name": "stdout",
          "text": [
            "0    ('Loid', 'Loid')\n",
            "2    ('Ray', 'Cris')\n",
            "3    ('Loid', 'Loid')\n",
            "4    ('azula', 'Okarin')\n",
            "5    ('Ray', 'Ray')\n",
            "6    ('Ray', 'Ray')\n",
            "7    ('Cris', 'Cris')\n",
            "8    ('zuko', 'zuko')\n",
            "9    ('L', 'L')\n",
            "10    ('Ray', 'Ray')\n",
            "11    ('Near ', 'Askeladd')\n",
            "12    ('zuko', 'katara')\n",
            "13    ('Cris', 'Cris')\n",
            "14    ('Askeladd', 'Askeladd')\n",
            "15    ('katara', 'Askeladd')\n",
            "16    ('Loid', 'Loid')\n",
            "17    ('Okarin', 'Askeladd')\n",
            "18    ('Light Yagami', 'Ray')\n",
            "19    ('iroh', 'Askeladd')\n",
            "20    ('Cris', 'Cris')\n",
            "21    ('iroh', 'iroh')\n",
            "22    ('Light Yagami', 'Light Yagami')\n",
            "23    ('aang', 'Askeladd')\n",
            "24    ('Light Yagami', 'Cris')\n",
            "25    ('Cris', 'Cris')\n",
            "26    ('Ray', 'iroh')\n",
            "27    ('Loid', 'Loid')\n",
            "28    ('Ray', 'Ray')\n",
            "29    ('azula', 'Okarin')\n",
            "30    ('zuko', 'Okarin')\n",
            "31    ('Okarin', 'Loid')\n",
            "32    ('aang', 'iroh')\n",
            "33    ('Light Yagami', 'Near ')\n",
            "34    ('L', 'L')\n",
            "35    ('azula', 'azula')\n",
            "36    ('Askeladd', 'Askeladd')\n",
            "37    ('zuko', 'Light Yagami')\n",
            "38    ('Okarin', 'L')\n",
            "39    ('aang', 'iroh')\n",
            "40    ('Light Yagami', 'Light Yagami')\n",
            "41    ('Okarin', 'Okarin')\n",
            "42    ('Near ', 'Misa Amane')\n",
            "43    ('Near ', 'Loid')\n",
            "44    ('Askeladd', 'iroh')\n",
            "45    ('Light Yagami', 'Near ')\n",
            "46    ('Askeladd', 'Askeladd')\n",
            "47    ('Askeladd', 'iroh')\n",
            "48    ('azula', 'katara')\n",
            "49    ('Loid', 'Loid')\n",
            "50    ('aang', 'iroh')\n",
            "51    ('Askeladd', 'iroh')\n",
            "52    ('aang', 'aang')\n",
            "53    ('zuko', 'Cris')\n",
            "54    ('iroh', 'Loid')\n",
            "55    ('L', 'L')\n",
            "56    ('Askeladd', 'Askeladd')\n",
            "57    ('azula', 'azula')\n",
            "58    ('Okarin', 'Okarin')\n",
            "59    ('L', 'L')\n",
            "60    ('Light Yagami', 'Light Yagami')\n",
            "61    ('Loid', 'katara')\n"
          ]
        }
      ]
    },
    {
      "cell_type": "code",
      "source": [
        "img = pca.inverse_transform((Xtest[55])).reshape((64,64))\n",
        "plt.imshow(img, interpolation='nearest',cmap=\"gray\")\n",
        "plt.show()\n",
        "print(Ytest[55])\n",
        "plt.plot(pca.explained_variance_)"
      ],
      "metadata": {
        "colab": {
          "base_uri": "https://localhost:8080/",
          "height": 562
        },
        "id": "foWFu7bI5IFg",
        "outputId": "66c26a5d-f06d-403d-fc47-9b41587d8294"
      },
      "execution_count": 98,
      "outputs": [
        {
          "output_type": "display_data",
          "data": {
            "text/plain": [
              "<Figure size 432x288 with 1 Axes>"
            ],
            "image/png": "[encoded data removed]"
          },
          "metadata": {
            "needs_background": "light"
          }
        },
        {
          "output_type": "stream",
          "name": "stdout",
          "text": [
            "L\n"
          ]
        },
        {
          "output_type": "execute_result",
          "data": {
            "text/plain": [
              "[<matplotlib.lines.Line2D at 0x7f0989159dc0>]"
            ]
          },
          "metadata": {},
          "execution_count": 98
        },
        {
          "output_type": "display_data",
          "data": {
            "text/plain": [
              "<Figure size 432x288 with 1 Axes>"
            ],
            "image/png": "[encoded data removed]"
          },
          "metadata": {
            "needs_background": "light"
          }
        }
      ]
    },
    {
      "cell_type": "code",
      "source": [
        "ypred = knn.predict(np.append(Xtrain,Xtest,axis=0))\n",
        "accuracy_score(np.append(Ytrain,Ytest), ypred)"
      ],
      "metadata": {
        "colab": {
          "base_uri": "https://localhost:8080/"
        },
        "id": "OFwFSs_e5J3h",
        "outputId": "1aff1a07-39fc-4d0a-a547-08096d5af520"
      },
      "execution_count": 99,
      "outputs": [
        {
          "output_type": "execute_result",
          "data": {
            "text/plain": [
              "0.746938775510204"
            ]
          },
          "metadata": {},
          "execution_count": 99
        }
      ]
    },
    {
      "cell_type": "code",
      "source": [
        "cm = confusion_matrix(np.append(Ytrain,Ytest), ypred,labels=list(labelsSet))\n",
        "fig, ax = plt.subplots(figsize=(12, 12))\n",
        "disp = ConfusionMatrixDisplay(confusion_matrix=cm,display_labels=list(labelsSet))\n",
        "disp.plot(ax=ax)\n",
        "plt.show()"
      ],
      "metadata": {
        "colab": {
          "base_uri": "https://localhost:8080/",
          "height": 693
        },
        "id": "LTwgEbbt5LZg",
        "outputId": "d505abaa-7563-49bd-8f23-6e520b492521"
      },
      "execution_count": 100,
      "outputs": [
        {
          "output_type": "display_data",
          "data": {
            "text/plain": [
              "<Figure size 864x864 with 2 Axes>"
            ],
            "image/png": "[encoded data removed]"
          },
          "metadata": {
            "needs_background": "light"
          }
        }
      ]
    }
  ],
  "metadata": {
    "kernelspec": {
      "display_name": "Python 3 (ipykernel)",
      "language": "python",
      "name": "python3"
    },
    "language_info": {
      "codemirror_mode": {
        "name": "ipython",
        "version": 3
      },
      "file_extension": ".py",
      "mimetype": "text/x-python",
      "name": "python",
      "nbconvert_exporter": "python",
      "pygments_lexer": "ipython3",
      "version": "3.10.8 (main, Nov  5 2022, 23:13:42) [GCC 12.2.0]"
    },
    "vscode": {
      "interpreter": {
        "hash": "e7370f93d1d0cde622a1f8e1c04877d8463912d04d973331ad4851f04de6915a"
      }
    },
    "colab": {
      "provenance": []
    }
  },
  "nbformat": 4,
  "nbformat_minor": 0
}